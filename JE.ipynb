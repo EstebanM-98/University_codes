{
 "cells": [
  {
   "cell_type": "code",
   "execution_count": null,
   "id": "29ba9f14",
   "metadata": {},
   "outputs": [
    {
     "name": "stderr",
     "output_type": "stream",
     "text": [
      "C:\\Users\\Esteban\\AppData\\Local\\Temp\\ipykernel_10364\\392149487.py:9: DeprecationWarning: executable_path has been deprecated, please pass in a Service object\n",
      "  driver = webdriver.Chrome(\"chromedriver.exe\") #Path del chromedriver\n"
     ]
    }
   ],
   "source": [
    "#Librerias\n",
    "import time\n",
    "from selenium import webdriver\n",
    "from selenium.webdriver.common.by import By\n",
    "from selenium.webdriver.common.keys import Keys\n",
    "from selenium.webdriver.support.ui import WebDriverWait\n",
    "\n",
    "\n",
    "\n",
    "class Hackeo():\n",
    "    driver = webdriver.Chrome(\"chromedriver.exe\") #Path del chromedriver\n",
    "    def __init__(self,link,usuario,clave):\n",
    "        self.link=link\n",
    "        self.usuario=usuario\n",
    "        self.clave=clave\n",
    "        \n",
    "        #driver.get(\"https://biblioteca.udea.edu.co/turnosudea/#/sala/34/equipo/Sala%201\") # Pagina a abri\n",
    "        \n",
    "    def salas(self,sala):\n",
    "        driver.get(self.link)\n",
    "        search_box = driver.find_element(By.ID, \"usuario\") #Busca usuario\n",
    "        search_box.send_keys(self.usuario) #Ingresa usuario\n",
    "        search_box = driver.find_element(By.ID, \"clave\")  #Busca clave\n",
    "        search_box.send_keys(self.clave) # Ingresa contraseña\n",
    "        search_box.send_keys(Keys.ENTER) #Presiona Enter\n",
    "        search_box = driver.find_element(By.LINK_TEXT,'Ingresar').click() #Buscar primer ingresar\n",
    "      \n",
    "        \n",
    "        "
   ]
  },
  {
   "cell_type": "code",
   "execution_count": 33,
   "id": "fc60a47a",
   "metadata": {},
   "outputs": [],
   "source": [
    "webdriver??"
   ]
  },
  {
   "cell_type": "code",
   "execution_count": 18,
   "id": "ed32c99c",
   "metadata": {},
   "outputs": [
    {
     "name": "stderr",
     "output_type": "stream",
     "text": [
      "C:\\Users\\Esteban\\AppData\\Local\\Temp\\ipykernel_10364\\2869476604.py:13: DeprecationWarning: executable_path has been deprecated, please pass in a Service object\n",
      "  self.driver = webdriver.Chrome(\"chromedriver.exe\") #Path del chromedriver\n"
     ]
    }
   ],
   "source": [
    "link=\"https://biblioteca.udea.edu.co/turnosudea/#/sala/34/equipo/Sala%201\"\n",
    "usuario=\"esteban.marulandaa\"\n",
    "clave=\"optica31415\"\n",
    "alumno = Hackeo(link,usuario,clave)"
   ]
  },
  {
   "cell_type": "code",
   "execution_count": 1,
   "id": "682f6b01",
   "metadata": {},
   "outputs": [],
   "source": [
    "#Librerias\n",
    "import time\n",
    "from selenium import webdriver\n",
    "from selenium.webdriver.common.by import By\n",
    "from selenium.webdriver.common.keys import Keys\n",
    "from selenium.webdriver.support.ui import WebDriverWait"
   ]
  },
  {
   "cell_type": "code",
   "execution_count": 2,
   "id": "7c64d18d",
   "metadata": {},
   "outputs": [
    {
     "name": "stderr",
     "output_type": "stream",
     "text": [
      "C:\\Users\\Esteban\\AppData\\Local\\Temp\\ipykernel_18780\\3954447706.py:1: DeprecationWarning: executable_path has been deprecated, please pass in a Service object\n",
      "  driver = webdriver.Chrome(\"chromedriver.exe\") #Path del chromedriver\n"
     ]
    }
   ],
   "source": [
    "driver = webdriver.Chrome(\"chromedriver.exe\") #Path del chromedriver\n",
    "driver.get(\"https://biblioteca.udea.edu.co/turnosudea/#/sala/34/equipo/Sala%201\") # Pagina a abrir"
   ]
  },
  {
   "cell_type": "code",
   "execution_count": 3,
   "id": "bdf35914",
   "metadata": {},
   "outputs": [],
   "source": [
    "search_box = driver.find_element(By.ID, \"usuario\") #Busca usuario\n",
    "search_box.send_keys(\"esteban.marulandaa\") #Ingresa usuario\n",
    "search_box = driver.find_element(By.ID, \"clave\")  #Busca clave\n",
    "search_box.send_keys(\"optica31415\") # Ingresa contraseña\n",
    "search_box.send_keys(Keys.ENTER) #Presiona Enter"
   ]
  },
  {
   "cell_type": "code",
   "execution_count": 4,
   "id": "7bea21dc",
   "metadata": {},
   "outputs": [],
   "source": [
    "search_box = driver.find_element(By.LINK_TEXT,'Ingresar').click() #Buscar primer ingresar"
   ]
  },
  {
   "cell_type": "code",
   "execution_count": 5,
   "id": "35053c0c",
   "metadata": {},
   "outputs": [],
   "source": [
    "url=\"#sala/34\"\n",
    "search_box = driver.find_element(By.XPATH,'//a[@href=\"'+url+'\"]').click()  #Sala a reservar\n"
   ]
  },
  {
   "cell_type": "code",
   "execution_count": 6,
   "id": "c3d5601e",
   "metadata": {},
   "outputs": [],
   "source": [
    "\n",
    "url=\"#/sala/34/equipo/Sala 1\"\n",
    "search_box = driver.find_element(By.XPATH,'//a[@href=\"'+url+'\"]').click() "
   ]
  },
  {
   "cell_type": "code",
   "execution_count": null,
   "id": "e368bf6e",
   "metadata": {},
   "outputs": [],
   "source": [
    "##search_box = driver.find_element(By.ID,\"datepicker-52-8129-17\").click()\n"
   ]
  },
  {
   "cell_type": "code",
   "execution_count": 7,
   "id": "30a390ae",
   "metadata": {},
   "outputs": [],
   "source": [
    "names = dict()\n",
    "for e in driver.find_elements(By.CLASS_NAME,'btn.ng-binding.ng-scope'):\n",
    "    name=e.text\n",
    "    if  name=='20:00 - 20:30': # Hora a reservar\n",
    "        e.click()\n",
    "    \n",
    "\n"
   ]
  },
  {
   "cell_type": "code",
   "execution_count": null,
   "id": "356d95ce",
   "metadata": {},
   "outputs": [],
   "source": [
    "search_box = driver.find_element(By.CLASS_NAME,'btn.btn-success').click() #Reserva\n"
   ]
  },
  {
   "cell_type": "code",
   "execution_count": null,
   "id": "92130118",
   "metadata": {},
   "outputs": [],
   "source": []
  }
 ],
 "metadata": {
  "kernelspec": {
   "display_name": "Python 3 (ipykernel)",
   "language": "python",
   "name": "python3"
  },
  "language_info": {
   "codemirror_mode": {
    "name": "ipython",
    "version": 3
   },
   "file_extension": ".py",
   "mimetype": "text/x-python",
   "name": "python",
   "nbconvert_exporter": "python",
   "pygments_lexer": "ipython3",
   "version": "3.10.7"
  }
 },
 "nbformat": 4,
 "nbformat_minor": 5
}
