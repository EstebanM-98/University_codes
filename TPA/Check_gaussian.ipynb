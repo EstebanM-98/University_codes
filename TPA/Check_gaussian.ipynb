{
 "cells": [
  {
   "attachments": {},
   "cell_type": "markdown",
   "metadata": {},
   "source": [
    "¿Como verificar Gaussianidad en una distribucion?\n",
    "\n",
    "Se utilizan dos criterios conocidos en la literatura para un test de Gaussianidad:\n",
    "\n",
    "1.  Test de Anderson.\n",
    "2.  Test de Shapiro.\n",
    "\n",
    "La condicion a implementar es que si almenos uno de los dos acepta la hipotesis nula, se acepta que los datos siguen una distribucion normal.\n"
   ]
  },
  {
   "cell_type": "code",
   "execution_count": 5,
   "metadata": {},
   "outputs": [],
   "source": [
    "from scipy.stats import shapiro \n",
    "from scipy.stats import anderson\n",
    "import numpy as np\n",
    "import matplotlib.pylab as plt\n",
    "\n",
    "def confirm_gauss(s):\n",
    "    '''\n",
    "    Criterio de gaussianidad: Devuelve valor 0 o 1 dependiendo\n",
    "     si los datos son gaussianos o no respectivamente\n",
    "    s: Array con datos a verificar\n",
    "    '''\n",
    "    result = (anderson(np.sort(s), dist='norm'))\n",
    "    criterio=((result[0]<result[1][3])or(shapiro(np.sort(s))[1]>0.05))*1   \n",
    "    return criterio"
   ]
  },
  {
   "attachments": {},
   "cell_type": "markdown",
   "metadata": {},
   "source": [
    "# Ejemplo: Producto de variables gaussianas."
   ]
  },
  {
   "cell_type": "code",
   "execution_count": 6,
   "metadata": {},
   "outputs": [
    {
     "name": "stderr",
     "output_type": "stream",
     "text": [
      "/usr/lib/python3/dist-packages/scipy/stats/_morestats.py:1761: UserWarning: p-value may not be accurate for N > 5000.\n",
      "  warnings.warn(\"p-value may not be accurate for N > 5000.\")\n"
     ]
    },
    {
     "name": "stdout",
     "output_type": "stream",
     "text": [
      "Criterio Gaussiano 0\n"
     ]
    },
    {
     "data": {
      "image/png": "[encoded data removed]",
      "text/plain": [
       "<Figure size 640x480 with 1 Axes>"
      ]
     },
     "metadata": {},
     "output_type": "display_data"
    }
   ],
   "source": [
    "mu1=4\n",
    "mu2=4\n",
    "sigma1=1\n",
    "sigma2=1\n",
    "x=np.random.normal(mu1,sigma1,10000)\n",
    "y=np.random.normal(mu2,sigma2,10000)\n",
    "z=x*y\n",
    "n, bins, patches=plt.hist(z,bins='fd',density=True,color='black')\n",
    "print('Criterio Gaussiano',confirm_gauss(z))"
   ]
  }
 ],
 "metadata": {
  "kernelspec": {
   "display_name": "Python 3",
   "language": "python",
   "name": "python3"
  },
  "language_info": {
   "codemirror_mode": {
    "name": "ipython",
    "version": 3
   },
   "file_extension": ".py",
   "mimetype": "text/x-python",
   "name": "python",
   "nbconvert_exporter": "python",
   "pygments_lexer": "ipython3",
   "version": "3.10.6"
  },
  "orig_nbformat": 4,
  "vscode": {
   "interpreter": {
    "hash": "916dbcbb3f70747c44a77c7bcd40155683ae19c65e1c03b4aa3499c5328201f1"
   }
  }
 },
 "nbformat": 4,
 "nbformat_minor": 2
}
