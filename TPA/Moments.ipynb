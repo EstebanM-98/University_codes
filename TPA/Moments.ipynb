{
 "cells": [
  {
   "cell_type": "code",
   "execution_count": 2,
   "metadata": {},
   "outputs": [],
   "source": [
    "import sympy as sym\n",
    "import math\n",
    "\n",
    "t,a,b,c = sym.symbols('t mu sigma c')\n",
    "def f(t,a,b,c):\n",
    "    return 1/sym.sqrt(1-2*b**2*t)*sym.exp(t*a**2/(1-2*b**2*t)+t*c)\n",
    "\n",
    "def fprime(t,a,b,c,n):\n",
    "    return sym.diff(f(t,a,b,c),t,n)\n",
    "\n"
   ]
  },
  {
   "attachments": {},
   "cell_type": "markdown",
   "metadata": {},
   "source": [
    "# Moments of the proposed generating function:\n",
    "\n",
    "With the help of the sympy library the first three derivatives of equation (20) of the article are calculated. The derivatives are calculated without being evaluated at t=0. Therefore equations (21), (22), (23) arise from evaluating the expressions of this notebook at t=0."
   ]
  },
  {
   "attachments": {},
   "cell_type": "markdown",
   "metadata": {},
   "source": [
    "# First moment:"
   ]
  },
  {
   "cell_type": "code",
   "execution_count": 3,
   "metadata": {},
   "outputs": [
    {
     "data": {
      "text/latex": [
       "$\\displaystyle \\frac{\\left(\\sigma^{2} \\left(- 2 \\sigma^{2} t + 1\\right)^{2} - \\left(2 \\sigma^{2} t - 1\\right) \\left(c \\left(2 \\sigma^{2} t - 1\\right)^{2} + 2 \\mu^{2} \\sigma^{2} t + \\mu^{2} \\left(- 2 \\sigma^{2} t + 1\\right)\\right)\\right) e^{\\frac{t \\left(c \\left(2 \\sigma^{2} t - 1\\right) - \\mu^{2}\\right)}{2 \\sigma^{2} t - 1}}}{\\left(- 2 \\sigma^{2} t + 1\\right)^{\\frac{7}{2}}}$"
      ],
      "text/plain": [
       "(sigma**2*(-2*sigma**2*t + 1)**2 - (2*sigma**2*t - 1)*(c*(2*sigma**2*t - 1)**2 + 2*mu**2*sigma**2*t + mu**2*(-2*sigma**2*t + 1)))*exp(t*(c*(2*sigma**2*t - 1) - mu**2)/(2*sigma**2*t - 1))/(-2*sigma**2*t + 1)**(7/2)"
      ]
     },
     "execution_count": 3,
     "metadata": {},
     "output_type": "execute_result"
    }
   ],
   "source": [
    "sym.simplify(fprime(t,a,b,c,1))"
   ]
  },
  {
   "attachments": {},
   "cell_type": "markdown",
   "metadata": {},
   "source": [
    "# Seconda moment:"
   ]
  },
  {
   "cell_type": "code",
   "execution_count": 4,
   "metadata": {},
   "outputs": [
    {
     "data": {
      "text/latex": [
       "$\\displaystyle \\frac{\\left(- \\mu^{2} \\sigma^{2} \\left(8 \\sigma^{2} t - 4\\right) + 3 \\sigma^{4} \\left(2 \\sigma^{2} t - 1\\right)^{2} - 2 \\sigma^{2} \\left(2 \\sigma^{2} t - 1\\right) \\left(c \\left(2 \\sigma^{2} t - 1\\right)^{2} + 2 \\mu^{2} \\sigma^{2} t + \\mu^{2} \\left(- 2 \\sigma^{2} t + 1\\right)\\right) + \\left(c \\left(2 \\sigma^{2} t - 1\\right)^{2} + 2 \\mu^{2} \\sigma^{2} t - \\mu^{2} \\left(2 \\sigma^{2} t - 1\\right)\\right)^{2}\\right) e^{\\frac{t \\left(c \\left(2 \\sigma^{2} t - 1\\right) - \\mu^{2}\\right)}{2 \\sigma^{2} t - 1}}}{\\left(- 2 \\sigma^{2} t + 1\\right)^{\\frac{9}{2}}}$"
      ],
      "text/plain": [
       "(-mu**2*sigma**2*(8*sigma**2*t - 4) + 3*sigma**4*(2*sigma**2*t - 1)**2 - 2*sigma**2*(2*sigma**2*t - 1)*(c*(2*sigma**2*t - 1)**2 + 2*mu**2*sigma**2*t + mu**2*(-2*sigma**2*t + 1)) + (c*(2*sigma**2*t - 1)**2 + 2*mu**2*sigma**2*t - mu**2*(2*sigma**2*t - 1))**2)*exp(t*(c*(2*sigma**2*t - 1) - mu**2)/(2*sigma**2*t - 1))/(-2*sigma**2*t + 1)**(9/2)"
      ]
     },
     "execution_count": 4,
     "metadata": {},
     "output_type": "execute_result"
    }
   ],
   "source": [
    "sym.simplify(fprime(t,a,b,c,2))"
   ]
  },
  {
   "attachments": {},
   "cell_type": "markdown",
   "metadata": {},
   "source": [
    "# Third moment:"
   ]
  },
  {
   "cell_type": "code",
   "execution_count": 5,
   "metadata": {},
   "outputs": [
    {
     "data": {
      "text/latex": [
       "$\\displaystyle \\frac{\\left(24 \\mu^{2} \\sigma^{4} \\left(2 \\sigma^{2} t - 1\\right)^{2} + 12 \\mu^{2} \\sigma^{2} \\left(2 \\sigma^{2} t - 1\\right) \\left(- c \\left(2 \\sigma^{2} t - 1\\right)^{2} - 2 \\mu^{2} \\sigma^{2} t + \\mu^{2} \\left(2 \\sigma^{2} t - 1\\right)\\right) - 15 \\sigma^{6} \\left(2 \\sigma^{2} t - 1\\right)^{3} - \\sigma^{4} \\left(2 \\sigma^{2} t - 1\\right)^{2} \\left(- 9 c \\left(2 \\sigma^{2} t - 1\\right)^{2} - 18 \\mu^{2} \\sigma^{2} t + \\mu^{2} \\left(18 \\sigma^{2} t - 9\\right)\\right) + 3 \\sigma^{2} \\left(2 \\sigma^{2} t - 1\\right) \\left(\\mu^{2} \\sigma^{2} \\left(8 \\sigma^{2} t - 4\\right) - \\left(c \\left(2 \\sigma^{2} t - 1\\right)^{2} + 2 \\mu^{2} \\sigma^{2} t - \\mu^{2} \\left(2 \\sigma^{2} t - 1\\right)\\right)^{2}\\right) + \\left(c \\left(2 \\sigma^{2} t - 1\\right)^{2} + 2 \\mu^{2} \\sigma^{2} t - \\mu^{2} \\left(2 \\sigma^{2} t - 1\\right)\\right)^{3}\\right) e^{\\frac{t \\left(c \\left(2 \\sigma^{2} t - 1\\right) - \\mu^{2}\\right)}{2 \\sigma^{2} t - 1}}}{\\left(- 2 \\sigma^{2} t + 1\\right)^{\\frac{13}{2}}}$"
      ],
      "text/plain": [
       "(24*mu**2*sigma**4*(2*sigma**2*t - 1)**2 + 12*mu**2*sigma**2*(2*sigma**2*t - 1)*(-c*(2*sigma**2*t - 1)**2 - 2*mu**2*sigma**2*t + mu**2*(2*sigma**2*t - 1)) - 15*sigma**6*(2*sigma**2*t - 1)**3 - sigma**4*(2*sigma**2*t - 1)**2*(-9*c*(2*sigma**2*t - 1)**2 - 18*mu**2*sigma**2*t + mu**2*(18*sigma**2*t - 9)) + 3*sigma**2*(2*sigma**2*t - 1)*(mu**2*sigma**2*(8*sigma**2*t - 4) - (c*(2*sigma**2*t - 1)**2 + 2*mu**2*sigma**2*t - mu**2*(2*sigma**2*t - 1))**2) + (c*(2*sigma**2*t - 1)**2 + 2*mu**2*sigma**2*t - mu**2*(2*sigma**2*t - 1))**3)*exp(t*(c*(2*sigma**2*t - 1) - mu**2)/(2*sigma**2*t - 1))/(-2*sigma**2*t + 1)**(13/2)"
      ]
     },
     "execution_count": 5,
     "metadata": {},
     "output_type": "execute_result"
    }
   ],
   "source": [
    "sym.simplify(fprime(t,a,b,c,3))"
   ]
  }
 ],
 "metadata": {
  "kernelspec": {
   "display_name": "Python 3",
   "language": "python",
   "name": "python3"
  },
  "language_info": {
   "codemirror_mode": {
    "name": "ipython",
    "version": 3
   },
   "file_extension": ".py",
   "mimetype": "text/x-python",
   "name": "python",
   "nbconvert_exporter": "python",
   "pygments_lexer": "ipython3",
   "version": "3.10.6"
  },
  "orig_nbformat": 4
 },
 "nbformat": 4,
 "nbformat_minor": 2
}
