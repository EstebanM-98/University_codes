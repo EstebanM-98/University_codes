{
 "cells": [
  {
   "cell_type": "code",
   "execution_count": 2,
   "metadata": {},
   "outputs": [],
   "source": [
    "from IPython.core.display import HTML  #display animations with HTML\n",
    "import celluloid as cell  #animations\n",
    "import matplotlib.pyplot as plt  #visualizations\n",
    "import numpy as np  #math operations\n",
    "import os\n",
    "import pandas as pd\n",
    "#to en otra carpeta\n",
    "\n",
    "path=os.getcwd()\n"
   ]
  },
  {
   "cell_type": "code",
   "execution_count": 3,
   "metadata": {},
   "outputs": [],
   "source": [
    "paths_amps=[]\n",
    "for i in range(0,38):\n",
    "    if i==0:\n",
    "        for j in range(2,50):\n",
    "        \n",
    "            paths_amps.append('MUESTRA_'+str(0)+'_'+str(i)+'_'+str(j)+'.csv')\n",
    "\n",
    "    else:\n",
    "        for j in range(0,50):\n",
    "        \n",
    "            paths_amps.append('MUESTRA_'+str(0)+'_'+str(i)+'_'+str(j)+'.csv')\n",
    "\n"
   ]
  },
  {
   "attachments": {},
   "cell_type": "markdown",
   "metadata": {},
   "source": [
    "# Pulsos amplificados."
   ]
  },
  {
   "cell_type": "code",
   "execution_count": 38,
   "metadata": {},
   "outputs": [],
   "source": [
    "plt.ioff()  #start animation\n",
    "fig=plt.figure(figsize=(8,6))\n",
    "camera = cell.Camera(fig)\n",
    "\n",
    "\n",
    "for filename in paths_amps:\n",
    "    \n",
    "    df_S= pd.read_csv(path+'/Pulsos_amp/'+filename,skiprows=27)\n",
    "    \n",
    "    power_P=np.array(df_S['1749.9'][:])\n",
    "    Wave=df_S['Stop'][:]\n",
    "    t=plt.plot(df_S['Stop'][:],df_S['1749.9'][:],'k')\n",
    "    plt.legend(t,[filename])\n",
    "    plt.xlabel(r'$\\lambda/nm$',fontsize=20)\n",
    "    \n",
    "    camera.snap()\n",
    "\n",
    "plt.close()\n",
    "plt.ion();\n",
    "\n"
   ]
  },
  {
   "cell_type": "code",
   "execution_count": 39,
   "metadata": {},
   "outputs": [],
   "source": [
    "#Creating the animation from captured frames\n",
    "animation = camera.animate(interval = 200)\n",
    "animation.save('ampl.mp4')\n",
    "\n"
   ]
  },
  {
   "attachments": {},
   "cell_type": "markdown",
   "metadata": {},
   "source": [
    "# Supercontinuo 1."
   ]
  },
  {
   "cell_type": "code",
   "execution_count": 3,
   "metadata": {},
   "outputs": [],
   "source": [
    "plt.ioff()  #start animation\n",
    "fig=plt.figure(figsize=(25, 5))\n",
    "camera = cell.Camera(fig)\n",
    "\n",
    "\n",
    "for filename in paths_amps:\n",
    "    \n",
    "    df_S1= pd.read_csv(path+'/Supercontinuo_1/'+filename,skiprows=27)\n",
    "    df_S= pd.read_csv(path+'/Pulsos_amp/'+filename,skiprows=27)\n",
    "\n",
    "    plt.subplot(121)\n",
    "\n",
    "    t2=plt.plot(df_S['Stop'][:],(df_S['1749.9'][:]),'k')\n",
    "    plt.legend(t2,[filename])\n",
    "    plt.xlabel(r'$\\lambda/nm$',fontsize=20)\n",
    "\n",
    "    plt.subplot(122)\n",
    "    t1=plt.plot(df_S1['Stop'][:],(df_S1['1749.9'][:]),'r')\n",
    "    plt.legend(t1,[filename])\n",
    "    plt.xlabel(r'$\\lambda/nm$',fontsize=20)\n",
    "    \n",
    "    camera.snap()\n",
    "\n",
    "plt.close()\n",
    "plt.ion();\n",
    "\n"
   ]
  },
  {
   "cell_type": "code",
   "execution_count": 4,
   "metadata": {},
   "outputs": [],
   "source": [
    "#Creating the animation from captured frames\n",
    "animation = camera.animate(interval = 100)\n",
    "animation.save('S1+AMP.mp4')"
   ]
  },
  {
   "cell_type": "code",
   "execution_count": 5,
   "metadata": {},
   "outputs": [],
   "source": [
    "plt.ioff()  #start animation\n",
    "fig=plt.figure(figsize=(25, 5))\n",
    "camera = cell.Camera(fig)\n",
    "\n",
    "\n",
    "for filename in paths_amps:\n",
    "    \n",
    "    df_S1= pd.read_csv(path+'/Supercontinuo_1/'+filename,skiprows=27)\n",
    "    df_S= pd.read_csv(path+'/Pulsos_amp/'+filename,skiprows=27)\n",
    "\n",
    "    plt.subplot(121)\n",
    "\n",
    "    t2=plt.plot(df_S['Stop'][:],10*np.log10((df_S['1749.9'][:])),'k')\n",
    "    plt.legend(t2,[filename])\n",
    "    plt.xlabel(r'$\\lambda/nm$',fontsize=20)\n",
    "\n",
    "    plt.subplot(122)\n",
    "    t1=plt.plot(df_S1['Stop'][:],10*np.log10((df_S1['1749.9'][:])),'r')\n",
    "    plt.legend(t1,[filename])\n",
    "    plt.xlabel(r'$\\lambda/nm$',fontsize=20)\n",
    "    \n",
    "    camera.snap()\n",
    "\n",
    "plt.close()\n",
    "plt.ion();\n",
    "\n"
   ]
  },
  {
   "cell_type": "code",
   "execution_count": 6,
   "metadata": {},
   "outputs": [],
   "source": [
    "#Creating the animation from captured frames\n",
    "animation = camera.animate(interval = 100)\n",
    "animation.save('logS1+AMP.mp4')"
   ]
  },
  {
   "attachments": {},
   "cell_type": "markdown",
   "metadata": {},
   "source": [
    "# TODOS."
   ]
  }
 ],
 "metadata": {
  "kernelspec": {
   "display_name": "Python 3",
   "language": "python",
   "name": "python3"
  },
  "language_info": {
   "codemirror_mode": {
    "name": "ipython",
    "version": 3
   },
   "file_extension": ".py",
   "mimetype": "text/x-python",
   "name": "python",
   "nbconvert_exporter": "python",
   "pygments_lexer": "ipython3",
   "version": "3.11.7"
  },
  "orig_nbformat": 4
 },
 "nbformat": 4,
 "nbformat_minor": 2
}
