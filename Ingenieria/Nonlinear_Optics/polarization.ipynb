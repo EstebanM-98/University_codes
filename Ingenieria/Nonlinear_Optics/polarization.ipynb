{
 "cells": [
  {
   "cell_type": "code",
   "execution_count": 1,
   "metadata": {},
   "outputs": [],
   "source": [
    "# LIBRERIAS\n",
    "import matplotlib\n",
    "from ipywidgets import interact,widgets\n",
    "import numpy as np\n",
    "import matplotlib.pylab as plt\n",
    "import celluloid as cell  #animations\n",
    "import pandas as pd\n",
    "import os\n",
    "from scipy.interpolate import CubicSpline\n",
    "\n",
    "path=os.getcwd()\n",
    "#sns.set_theme()\n",
    "#matplotlib.rc('xtick', labels\n",
    "# ize=20) \n",
    "#matplotlib.rc('ytick', labelsize=20) \n",
    "font = {'weight' : 'bold',\n",
    "        'size'   : 10}\n",
    "\n",
    "matplotlib.rc('font', **font)\n",
    "import seaborn as sns\n",
    "import os\n",
    "path=os.getcwd()\n",
    "\n",
    "\n",
    "\n",
    "def fourierT(f):\n",
    "\n",
    "    return (np.fft.fftshift(np.fft.ifft(np.fft.fftshift(f))))\n",
    "\n",
    "\n",
    "def fourierI(f):\n",
    "\n",
    "    return (np.fft.fftshift(np.fft.fft(np.fft.fftshift(f))))\n",
    "\n"
   ]
  },
  {
   "cell_type": "code",
   "execution_count": 2,
   "metadata": {},
   "outputs": [],
   "source": [
    "def fourier_splitC(A01,A02,gamma,beta2,beta3,V,lenght,k):\n",
    "\n",
    "    c = 299792458\n",
    "   \n",
    "    dz = 0.001\n",
    "\n",
    "    A1=A01*k\n",
    "\n",
    "    A2=A02*k\n",
    "\n",
    "    UD1=np.exp(dz*0.5*(1j*V**2*0.5*beta2-1j*beta3/6*V**3),dtype=complex)\n",
    "\n",
    "    UD2=np.exp(dz*0.5*(1j*V**2*0.5*beta2-1j*beta3/6*V**3),dtype=complex)\n",
    "    \n",
    "    zz=0\n",
    "\n",
    "    while zz<=lenght:\n",
    "\n",
    "        A1a=fourierI(UD1*fourierT(A1))\n",
    "\n",
    "        A2a=fourierI(UD1*fourierT(A2))\n",
    "\n",
    "        N1=1j*gamma*(np.abs(A1a)**2+2*np.abs(A2a)**2)\n",
    "\n",
    "        A1aa=np.exp(dz*N1)*A1a\n",
    "\n",
    "        N2=1j*gamma*(np.abs(A2a)**2+2*np.abs(A1aa)**2)\n",
    "\n",
    "        A2aa=np.exp(dz*N2)*A2a\n",
    "\n",
    "        A1=fourierI(UD1*fourierT(A1aa))\n",
    "\n",
    "        A2=fourierI(UD2*fourierT(A2aa))\n",
    "\n",
    "        zz+=dz\n",
    "        \n",
    "    return fourierT(A1),fourierT(A2)\n",
    "\n",
    "\n",
    "def Delta_landa1(y_data,x_data):\n",
    "\n",
    "    \n",
    "    cs=CubicSpline(x_data,y_data)\n",
    "    new_xdata=np.linspace(min(x_data),max(x_data),len(x_data)*3)\n",
    "    Y=cs(new_xdata)\n",
    "    medium_value=np.max(Y)*0.01\n",
    "    M_V=[]\n",
    "    wl_s=[]\n",
    "    pow_s=[]\n",
    "    \n",
    "    for i in range(len(Y)):\n",
    "        if Y[i]>medium_value:\n",
    "            \n",
    "            M_V.append(i)\n",
    "            wl_s.append(new_xdata[i])\n",
    "            pow_s.append(Y[i])\n",
    "            \n",
    "\n",
    "    x1=new_xdata[np.min(M_V)]; \n",
    "    x2=new_xdata[np.max(M_V)]\n",
    "    return abs(x2-x1)\n",
    "\n",
    "\n",
    "    \n",
    "def cubic(x_data,y_data,N):\n",
    "\n",
    "    cs=CubicSpline(x_data,y_data)\n",
    "    new_xdata=np.linspace(min(x_data),max(x_data),N)\n",
    "    Y=cs(new_xdata)\n",
    "\n",
    "    return new_xdata, Y\n"
   ]
  },
  {
   "cell_type": "code",
   "execution_count": 3,
   "metadata": {},
   "outputs": [
    {
     "name": "stderr",
     "output_type": "stream",
     "text": [
      "C:\\Users\\esteb\\AppData\\Local\\Packages\\PythonSoftwareFoundation.Python.3.11_qbz5n2kfra8p0\\LocalCache\\local-packages\\Python311\\site-packages\\matplotlib\\cbook.py:1699: ComplexWarning: Casting complex values to real discards the imaginary part\n",
      "  return math.isfinite(val)\n",
      "C:\\Users\\esteb\\AppData\\Local\\Packages\\PythonSoftwareFoundation.Python.3.11_qbz5n2kfra8p0\\LocalCache\\local-packages\\Python311\\site-packages\\matplotlib\\cbook.py:1345: ComplexWarning: Casting complex values to real discards the imaginary part\n",
      "  return np.asarray(x, float)\n"
     ]
    },
    {
     "data": {
      "text/plain": [
       "[<matplotlib.lines.Line2D at 0x27219486490>]"
      ]
     },
     "execution_count": 3,
     "metadata": {},
     "output_type": "execute_result"
    },
    {
     "data": {
      "image/png": "[encoded data removed]",
      "text/plain": [
       "<Figure size 1000x500 with 2 Axes>"
      ]
     },
     "metadata": {},
     "output_type": "display_data"
    }
   ],
   "source": [
    "#Constants\n",
    "c = 299792458;            \n",
    "n = 2**13    # number of grid points\n",
    "TimeWindow = 12.5e-12 # width of time window [s]     \n",
    "dT = TimeWindow/n\n",
    "TimeGrid =  np.arange(-n/2,n/2,1)*dT #  time grid\n",
    "WaveLength=1550e-9      #reference wavelength [m]\n",
    "w0 = (2*np.pi*c)/WaveLength  #reference frequency [Hz]\n",
    "nu = 100e6 #Repetition rate (Hz)\n",
    "t0 = 200e-15       # duration of input [s]\n",
    "power = 80e-3/(nu*t0)        #peak power of input [W]\n",
    "delta = np.pi*2.3\n",
    "A1 = np.sqrt(power)*1/np.cosh(TimeGrid/(t0/2.634))*np.exp(1j*delta) # input field [W^(1/2)]\n",
    "A2 = np.sqrt(power)*1/np.cosh(TimeGrid/(t0/2.634)) # input field [W^(1/2)]\n",
    "\n",
    "\n",
    "f=plt.figure(figsize=(10,5))\n",
    "\n",
    "plt.subplot(121)\n",
    "plt.plot(TimeGrid,A1)\n",
    "\n",
    "plt.subplot(122)\n",
    "plt.plot(A1,A2)"
   ]
  },
  {
   "cell_type": "code",
   "execution_count": 4,
   "metadata": {},
   "outputs": [],
   "source": [
    "def anim2(a,k):\n",
    "\n",
    "    delta = np.pi*k\n",
    "    p = np.sqrt(power)\n",
    "    A1 = a*p*1/np.cosh(TimeGrid/(t0/2.634))*np.exp(1j*delta) # input field [W^(1/2)]\n",
    "    A2 = (1-a)*p*1/np.cosh(TimeGrid/(t0/2.634)) # input field [W^(1/2)]\n",
    "     # frequency grid\n",
    "\n",
    "    f=plt.figure(figsize=(15,5))\n",
    "\n",
    "    plt.subplot(121)\n",
    "    plt.plot(TimeGrid,np.abs(A1+A2)**2)\n",
    "    plt.ylabel('$|E|$')\n",
    "\n",
    "    plt.subplot(122)\n",
    "    plt.plot(A1,A2)\n",
    "    plt.xlabel('$E_x$')\n",
    "    plt.ylabel('$E_y$')\n",
    "    plt.ylim(-70,70)\n",
    "    plt.xlim(-70,70)"
   ]
  },
  {
   "cell_type": "code",
   "execution_count": 5,
   "metadata": {},
   "outputs": [
    {
     "data": {
      "application/vnd.jupyter.widget-view+json": {
       "model_id": "e1e5d9e5b024481d95e24c3d8c3880d7",
       "version_major": 2,
       "version_minor": 0
      },
      "text/plain": [
       "interactive(children=(FloatSlider(value=1.0, continuous_update=False, description='a', max=1.0, readout_format…"
      ]
     },
     "metadata": {},
     "output_type": "display_data"
    }
   ],
   "source": [
    "opc=dict(continuous_update=False,readout_format=\".3f\")\n",
    "interact(anim2,       \n",
    "        a= widgets.FloatSlider(min=0,max=1,value=1,step=0.01,**opc),  \n",
    "        k=widgets.FloatSlider(min=0,max=40,value=1,step=1,**opc),\n",
    "       \n",
    "        );"
   ]
  },
  {
   "cell_type": "markdown",
   "metadata": {},
   "source": [
    "# Propagación de pulso con polarización lineal."
   ]
  },
  {
   "cell_type": "code",
   "execution_count": 6,
   "metadata": {},
   "outputs": [],
   "source": [
    "V = 2*np.pi*np.arange(-n/2,n/2,1).T/(n*dT)  # frequency grid\n",
    "W = V+w0\n",
    "WL =(2*np.pi*c/W)  #Frequencies."
   ]
  },
  {
   "cell_type": "code",
   "execution_count": null,
   "metadata": {},
   "outputs": [],
   "source": []
  },
  {
   "cell_type": "code",
   "execution_count": 7,
   "metadata": {},
   "outputs": [],
   "source": [
    "def anim2(a,k,C):\n",
    "\n",
    "    p = np.sqrt(power)\n",
    "    delta = np.pi*C\n",
    "    pulse= a*p*1/np.cosh(TimeGrid/(t0/2.634))*np.exp(1j*delta) # input field [W^(1/2)]\n",
    "    pulse2= (1-a)*p*1/np.cosh(TimeGrid/(t0/2.634)) #cc*np.exp(-(WL_in-(WL_central+l))**2/(2*p**2))*np.exp(1j*C2)\n",
    "    WaveLength=1550e-9      #reference wavelength [m]\n",
    "    c = 299792458\n",
    "    length = 2.0             #ibre length [m]\n",
    "    D=-1.0*1e-12*1e9*1e-3 #Dispersion\n",
    "    dD=0.006*1e-12*1e9**2*1e-3  #Dispersion slope\n",
    "    #betas = [beta2, beta3, ...] in units [s^2/m, s^3/m ...]\n",
    "    beta2=-WaveLength**2/(2*np.pi*c)*D\n",
    "    beta3=(WaveLength**2/(2*np.pi*c))**2*(2*D/WaveLength+dD)\n",
    "    A = pulse\n",
    "    A2= pulse2\n",
    "    gamma = 10.8*1e-3\n",
    "    sol1,sol2=fourier_splitC(A,A2,gamma,beta2,beta3,V,length,k)\n",
    "    sol=np.abs(sol1+sol2)**2\n",
    "\n",
    "    \n",
    "    \n",
    "    #plt.plot(TimeGrid,A)\n",
    "\n",
    "    f=plt.figure(figsize=(13,5))\n",
    "\n",
    "\n",
    "    plt.subplot(121)\n",
    "\n",
    "    plt.plot(WL*1e9,10*np.log10(sol/1e-3),label='Simulated spectrum')\n",
    "    plt.plot(WL*1e9,10*np.log10(np.abs(fourierT((A+A2))**2/1e-3)),label='Simulated spectrum')\n",
    "    #plt.xlim(1400,1700)\n",
    "    plt.ylim(-100,20)\n",
    "    plt.xlabel('$\\lambda/nm$',fontsize=20)\n",
    "    plt.ylabel('$A.U$',fontsize=20)\n",
    "    plt.legend()\n",
    "    #print('Ld=',t0**2/abs(beta2))\n",
    "    #print('Lnl=',1/(gamma*power))Initial\n",
    "    print(Delta_landa1((sol),WL))\n",
    "\n",
    "    plt.subplot(122)\n",
    "    plt.plot(A,A2)\n",
    "    plt.xlabel('$E_x$')\n",
    "    plt.ylabel('$E_y$')\n",
    "    plt.ylim(-70,70)\n",
    "    plt.xlim(-70,70)\n"
   ]
  },
  {
   "cell_type": "code",
   "execution_count": 8,
   "metadata": {},
   "outputs": [
    {
     "data": {
      "image/png": "[encoded data removed]",
      "text/plain": [
       "<Figure size 1300x500 with 1 Axes>"
      ]
     },
     "metadata": {},
     "output_type": "display_data"
    },
    {
     "data": {
      "application/vnd.jupyter.widget-view+json": {
       "model_id": "4383cf7568c34629a973cb6b7225b266",
       "version_major": 2,
       "version_minor": 0
      },
      "text/plain": [
       "interactive(children=(FloatSlider(value=1.0, continuous_update=False, description='a', max=1.0, readout_format…"
      ]
     },
     "metadata": {},
     "output_type": "display_data"
    }
   ],
   "source": [
    "opc=dict(continuous_update=False,readout_format=\".3f\")\n",
    "interact(anim2,       \n",
    "        a= widgets.FloatSlider(min=0,max=1,value=1,step=0.01,**opc),  \n",
    "        k=widgets.FloatSlider(min=0,max=1,value=1,step=0.001,**opc),\n",
    "        C=widgets.FloatSlider(min=0,max=1,value=1,step=1,**opc)\n",
    "       \n",
    "        );"
   ]
  },
  {
   "cell_type": "code",
   "execution_count": null,
   "metadata": {},
   "outputs": [],
   "source": []
  }
 ],
 "metadata": {
  "kernelspec": {
   "display_name": "Python 3",
   "language": "python",
   "name": "python3"
  },
  "language_info": {
   "codemirror_mode": {
    "name": "ipython",
    "version": 3
   },
   "file_extension": ".py",
   "mimetype": "text/x-python",
   "name": "python",
   "nbconvert_exporter": "python",
   "pygments_lexer": "ipython3",
   "version": "3.11.7"
  }
 },
 "nbformat": 4,
 "nbformat_minor": 2
}
